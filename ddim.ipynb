{
 "cells": [
  {
   "cell_type": "code",
   "execution_count": 293,
   "metadata": {},
   "outputs": [
    {
     "name": "stderr",
     "output_type": "stream",
     "text": [
      "/var/folders/n_/ykwl_b5n0gx9x4hp5z0fmvvr0000gn/T/ipykernel_79330/132172499.py:9: DeprecationWarning: Please use `rotate` from the `scipy.ndimage` namespace, the `scipy.ndimage.interpolation` namespace is deprecated.\n",
      "  from scipy.ndimage.interpolation import rotate\n"
     ]
    }
   ],
   "source": [
    "import torch\n",
    "import torch.nn as nn\n",
    "import torchvision\n",
    "from torch.nn import init\n",
    "from torch.nn import functional as F\n",
    "import math\n",
    "import matplotlib.pyplot as plt\n",
    "import matplotlib.animation as animation\n",
    "from scipy.ndimage.interpolation import rotate\n",
    "import numpy as np\n",
    "from IPython.display import clear_output\n",
    "from IPython.display import HTML\n",
    "from IPython.display import clear_output\n",
    "import torch.nn as nn\n",
    "import torch.nn.functional as F\n",
    "import torch\n",
    "from functools import partial\n",
    "import random\n",
    "import os\n",
    "import io\n",
    "from PIL import Image\n",
    "from utils import generate_dataset"
   ]
  },
  {
   "cell_type": "code",
   "execution_count": 294,
   "metadata": {},
   "outputs": [],
   "source": [
    "seed = 999\n",
    "random.seed(seed)\n",
    "torch.manual_seed(seed)\n",
    "os.environ['PYTHONHASHSEED'] = str(seed) \n",
    "np.random.seed(seed) \n",
    "torch.cuda.manual_seed(seed) \n",
    "torch.backends.cudnn.deterministic = True \n",
    "torch.backends.cudnn.benchmark = False \n",
    "scatter_range = [-0.5, 0.5]"
   ]
  },
  {
   "cell_type": "code",
   "execution_count": 295,
   "metadata": {},
   "outputs": [],
   "source": [
    "class TimeEmbedding(nn.Module):\n",
    "    def __init__(self, T, d_model, dim):\n",
    "        assert d_model % 2 == 0\n",
    "        super().__init__()\n",
    "        emb = torch.arange(0, d_model, step=2) / torch.Tensor([d_model]) * math.log(10000)\n",
    "        emb = torch.exp(-emb)\n",
    "        pos = torch.arange(T).float()\n",
    "        emb = pos[:, None] * emb[None, :]\n",
    "        assert list(emb.shape) == [T, d_model // 2]\n",
    "        emb = torch.stack([torch.sin(emb), torch.cos(emb)], dim=-1)\n",
    "        assert list(emb.shape) == [T, d_model // 2, 2]\n",
    "        emb = emb.view(T, d_model)\n",
    "\n",
    "        self.timembedding = nn.Sequential(\n",
    "            nn.Embedding.from_pretrained(emb),\n",
    "            nn.Linear(d_model, dim),\n",
    "            nn.GELU(),\n",
    "            nn.Linear(dim, dim),\n",
    "        )\n",
    "        self.initialize()\n",
    "\n",
    "    def initialize(self):\n",
    "        for module in self.modules():\n",
    "            if isinstance(module, nn.Linear):\n",
    "                init.xavier_uniform_(module.weight)\n",
    "                init.zeros_(module.bias)\n",
    "\n",
    "    def forward(self, t):\n",
    "        emb = self.timembedding(t)\n",
    "        return emb"
   ]
  },
  {
   "cell_type": "code",
   "execution_count": 296,
   "metadata": {},
   "outputs": [
    {
     "data": {
      "text/plain": [
       "'\\n\\nclass MLPDiffusion(nn.Module):\\n    def __init__(self, T, num_units=128):\\n        super(MLPDiffusion, self).__init__()\\n        self.time_embeddings1 = TimeEmbedding(T, num_units, num_units)\\n        self.time_embeddings2 = TimeEmbedding(T, num_units, num_units)\\n        self.time_embeddings3 = TimeEmbedding(T, num_units, num_units)\\n        self.fc1 = nn.Sequential(\\n            nn.Linear(2, num_units),\\n            nn.GELU(),\\n        )\\n        self.fc2 = nn.Sequential(\\n            nn.Linear(num_units, num_units),\\n            nn.GELU(),\\n        )\\n        self.fc3 = nn.Sequential(\\n            nn.Linear(num_units, num_units),\\n            nn.GELU(),\\n        )\\n        self.fc4 = nn.Linear(num_units, 2)\\n        self.initialize()\\n    def initialize(self):\\n        for module in self.modules():\\n            if isinstance(module, nn.Linear):\\n                init.xavier_uniform_(module.weight)\\n                init.zeros_(module.bias)\\n    \\n    def forward(self, x, t):\\n        \"\"\" 生成的过程: 把t的值作为一个embedding,然后和x相加\\n        下边的循环等价于把每个nn.Embedding分别插入到每个nn.Linear之前\\n        \"\"\"\\n        t_embedding1 = self.time_embeddings1(t)\\n        x = self.fc1(x)\\n        x += t_embedding1\\n        t_embedding2 = self.time_embeddings2(t)\\n        x = self.fc2(x)\\n        x += t_embedding2\\n        t_embedding3 = self.time_embeddings3(t)\\n        x = self.fc3(x)\\n        x += t_embedding3\\n        x = self.fc4(x)\\n        return x\\n'"
      ]
     },
     "execution_count": 296,
     "metadata": {},
     "output_type": "execute_result"
    }
   ],
   "source": [
    "\n",
    "class MLPDiffusion(nn.Module):\n",
    "    def __init__(self, T, num_units=128):\n",
    "        super(MLPDiffusion, self).__init__()\n",
    "\n",
    "        self.linears = nn.ModuleList(\n",
    "            [\n",
    "                nn.Linear(2, num_units),\n",
    "                nn.ReLU(),\n",
    "                nn.Linear(num_units, num_units),\n",
    "                nn.ReLU(),\n",
    "                nn.Linear(num_units, num_units),\n",
    "                nn.ReLU(),\n",
    "                nn.Linear(num_units, 2),\n",
    "            ]\n",
    "        )\n",
    "        self.time_embeddings = nn.ModuleList( # 用于生成t的embedding\n",
    "            [\n",
    "                TimeEmbedding(T, num_units, num_units),\n",
    "                TimeEmbedding(T, num_units, num_units),\n",
    "                TimeEmbedding(T, num_units, num_units),\n",
    "            ]\n",
    "        )\n",
    "    def forward(self, x, t):\n",
    "        \"\"\" 生成的过程: 把t的值作为一个embedding,然后和x相加\n",
    "        下边的循环等价于把每个nn.Embedding分别插入到每个nn.Linear之前\n",
    "        \"\"\"\n",
    "        for idx, embedding_layer in enumerate(self.time_embeddings):\n",
    "            t_embedding = embedding_layer(t)\n",
    "            x = self.linears[2 * idx](x)\n",
    "            x += t_embedding\n",
    "            x = self.linears[2 * idx + 1](x)\n",
    "\n",
    "        x = self.linears[-1](x)\n",
    "\n",
    "        return x\n",
    "'''\n",
    "\n",
    "class MLPDiffusion(nn.Module):\n",
    "    def __init__(self, T, num_units=128):\n",
    "        super(MLPDiffusion, self).__init__()\n",
    "        self.time_embeddings1 = TimeEmbedding(T, num_units, num_units)\n",
    "        self.time_embeddings2 = TimeEmbedding(T, num_units, num_units)\n",
    "        self.time_embeddings3 = TimeEmbedding(T, num_units, num_units)\n",
    "        self.fc1 = nn.Sequential(\n",
    "            nn.Linear(2, num_units),\n",
    "            nn.GELU(),\n",
    "        )\n",
    "        self.fc2 = nn.Sequential(\n",
    "            nn.Linear(num_units, num_units),\n",
    "            nn.GELU(),\n",
    "        )\n",
    "        self.fc3 = nn.Sequential(\n",
    "            nn.Linear(num_units, num_units),\n",
    "            nn.GELU(),\n",
    "        )\n",
    "        self.fc4 = nn.Linear(num_units, 2)\n",
    "        self.initialize()\n",
    "    def initialize(self):\n",
    "        for module in self.modules():\n",
    "            if isinstance(module, nn.Linear):\n",
    "                init.xavier_uniform_(module.weight)\n",
    "                init.zeros_(module.bias)\n",
    "    \n",
    "    def forward(self, x, t):\n",
    "        \"\"\" 生成的过程: 把t的值作为一个embedding,然后和x相加\n",
    "        下边的循环等价于把每个nn.Embedding分别插入到每个nn.Linear之前\n",
    "        \"\"\"\n",
    "        t_embedding1 = self.time_embeddings1(t)\n",
    "        x = self.fc1(x)\n",
    "        x += t_embedding1\n",
    "        t_embedding2 = self.time_embeddings2(t)\n",
    "        x = self.fc2(x)\n",
    "        x += t_embedding2\n",
    "        t_embedding3 = self.time_embeddings3(t)\n",
    "        x = self.fc3(x)\n",
    "        x += t_embedding3\n",
    "        x = self.fc4(x)\n",
    "        return x\n",
    "'''"
   ]
  },
  {
   "cell_type": "code",
   "execution_count": 297,
   "metadata": {},
   "outputs": [],
   "source": [
    "class Model(nn.Module):\n",
    "    def __init__(self, device, beta_1, beta_T, T):\n",
    "        '''\n",
    "        The epsilon predictor of diffusion process.\n",
    "\n",
    "        beta_1    : beta_1 of diffusion process\n",
    "        beta_T    : beta_T of diffusion process\n",
    "        T         : Diffusion Steps\n",
    "        input_dim : a dimension of data\n",
    "\n",
    "        '''\n",
    "\n",
    "        super().__init__()\n",
    "        self.device = device\n",
    "        self.alpha_bars = torch.cumprod(1 - torch.linspace(start = beta_1, end=beta_T, steps=T), dim = 0).to(device = device)\n",
    "        self.backbone = MLPDiffusion(T)\n",
    "        \n",
    "        self.to(device = self.device)\n",
    "\n",
    "    def loss_fn(self, x, idx=None):\n",
    "        '''\n",
    "        This function performed when only training phase.\n",
    "\n",
    "        x          : real data if idx==None else perturbation data\n",
    "        idx        : if None (training phase), we perturbed random index. Else (inference phase), it is recommended that you specify.\n",
    "\n",
    "        '''\n",
    "        output, epsilon, alpha_bar = self.forward(x, idx=idx, get_target=True)\n",
    "        loss = (output - epsilon).square().mean()\n",
    "        return loss\n",
    "\n",
    "        \n",
    "    def forward(self, x, idx=None, get_target=False):\n",
    "        if idx == None:\n",
    "            idx = torch.randint(0, len(self.alpha_bars), (x.size(0), )).to(device = self.device)\n",
    "            used_alpha_bars = self.alpha_bars[idx][:, None]\n",
    "            epsilon = torch.randn_like(x)\n",
    "            x_tilde = torch.sqrt(used_alpha_bars) * x + torch.sqrt(1 - used_alpha_bars) * epsilon\n",
    "            \n",
    "        else:\n",
    "            idx = torch.Tensor([idx for _ in range(x.size(0))]).to(device = self.device).long()\n",
    "            x_tilde = x\n",
    "            \n",
    "\n",
    "        output = self.backbone(x_tilde, idx)\n",
    "        \n",
    "        return (output, epsilon, used_alpha_bars) if get_target else output"
   ]
  },
  {
   "cell_type": "code",
   "execution_count": 298,
   "metadata": {},
   "outputs": [],
   "source": [
    "class DiffusionProcessDDIM():\n",
    "    def __init__(self, beta_1, beta_T, T, diffusion_fn, device, shape, eta, tau = 1, scheduling = 'uniform'):\n",
    "        '''\n",
    "        beta_1        : beta_1 of diffusion process\n",
    "        beta_T        : beta_T of diffusion process\n",
    "        T             : step of diffusion process\n",
    "        diffusion_fn  : trained diffusion network\n",
    "        shape         : data shape\n",
    "        eta           : coefficient of sigma\n",
    "        tau           : accelerating of diffusion process\n",
    "        scheduling    : scheduling mode of diffusion process\n",
    "        '''\n",
    "        self.betas = torch.linspace(start = beta_1, end=beta_T, steps=T)\n",
    "        self.alphas = 1 - self.betas\n",
    "        self.alpha_bars = torch.cumprod(1 - torch.linspace(start = beta_1, end=beta_T, steps=T), dim = 0).to(device = device)\n",
    "        self.alpha_prev_bars = torch.cat([torch.Tensor([1]).to(device=device), self.alpha_bars[:-1]])\n",
    "\n",
    "        self.shape = shape\n",
    "        self.sigmas = torch.sqrt((1 - self.alpha_prev_bars) / (1 - self.alpha_bars)) * torch.sqrt(1 - (self.alpha_bars / self.alpha_prev_bars))\n",
    "        self.diffusion_fn = diffusion_fn\n",
    "        self.device = device\n",
    "        self.eta = eta\n",
    "        self.tau = tau\n",
    "        self.scheduling = scheduling\n",
    "        \n",
    "    def _get_process_scheduling(self, reverse = True):\n",
    "        if self.scheduling == 'uniform':\n",
    "            diffusion_process = list(range(0, len(self.alpha_bars), self.tau)) + [len(self.alpha_bars)-1]\n",
    "        elif self.scheduling == 'exp':\n",
    "            diffusion_process = (np.linspace(0, np.sqrt(len(self.alpha_bars)* 0.8), self.tau)** 2)\n",
    "            diffusion_process = [int(s) for s in list(diffusion_process)] + [len(self.alpha_bars)-1]\n",
    "        else:\n",
    "            assert 'Not Implementation'\n",
    "            \n",
    "        \n",
    "        diffusion_process = zip(reversed(diffusion_process[:-1]), reversed(diffusion_process[1:])) if reverse else zip(diffusion_process[1:], diffusion_process[:-1])\n",
    "        return diffusion_process\n",
    "            \n",
    "\n",
    "    \n",
    "    def _one_reverse_diffusion_step(self, x):\n",
    "        '''\n",
    "        x   : perturbated data\n",
    "        '''\n",
    "        diffusion_process = self._get_process_scheduling(reverse = True)\n",
    "\n",
    "        for prev_idx, idx in diffusion_process:\n",
    "            self.diffusion_fn.eval()\n",
    "            noise = torch.zeros_like(x) if idx == 0 else torch.randn_like(x)\n",
    "            predict_epsilon = self.diffusion_fn(x, idx)\n",
    "            sigma = self.sigmas[idx] * self.eta\n",
    "            \n",
    "            predicted_x0 = torch.sqrt(self.alpha_bars[prev_idx]) * (x - torch.sqrt(1 - self.alpha_bars[idx]) * predict_epsilon) / torch.sqrt(self.alpha_bars[idx])\n",
    "            direction_pointing_to_xt = torch.sqrt(1 - self.alpha_bars[prev_idx] - sigma**2 ) * predict_epsilon\n",
    "            x = predicted_x0 + direction_pointing_to_xt + sigma * noise\n",
    "\n",
    "            yield x\n",
    "\n",
    "    @torch.no_grad()\n",
    "    def sampling(self, sampling_number, sample=None, only_final=False):\n",
    "        '''\n",
    "        sampling_number : a number of generation\n",
    "        only_final      : If True, return is an only output of final schedule step \n",
    "        '''\n",
    "        if sample==None:\n",
    "            sample = torch.randn([sampling_number,self.shape]).to(device = self.device)\n",
    "            \n",
    "        sampling_list = []\n",
    "        \n",
    "        final = None\n",
    "        for sample in self._one_reverse_diffusion_step(sample):\n",
    "            final = sample\n",
    "            if not only_final:\n",
    "                sampling_list.append(final)\n",
    "\n",
    "        return final if only_final else torch.stack(sampling_list)\n",
    "\n",
    "    \n",
    "    @torch.no_grad()\n",
    "    def probabilityflow(self, x, reverse):\n",
    "        '''\n",
    "        reverse : if True, backward(noise -> data) else forward(data -> noise)\n",
    "        '''\n",
    "        def reparameterize_sigma(idx):\n",
    "            return torch.sqrt( (1-self.alpha_bars[idx]) / self.alpha_bars[idx] )\n",
    "        def reparameterize_x(x, idx):\n",
    "            return x / torch.sqrt(self.alpha_bars[idx])\n",
    "        \n",
    "        diffusion_process = self._get_process_scheduling(reverse = reverse)\n",
    "        for idx_delta_t, idx in diffusion_process:\n",
    "            self.diffusion_fn.eval()\n",
    "            x_bar_delta_t = reparameterize_x(x, idx) + 0.5 * (reparameterize_sigma(idx_delta_t)**2 - reparameterize_sigma(idx)**2) / reparameterize_sigma(idx) * self.diffusion_fn(x, idx)\n",
    "            x = x_bar_delta_t * torch.sqrt(self.alpha_bars[idx_delta_t])\n",
    "\n",
    "        return x"
   ]
  },
  {
   "cell_type": "code",
   "execution_count": 299,
   "metadata": {},
   "outputs": [],
   "source": [
    "class AverageMeter(object):\n",
    "    def __init__(self, name, fmt=':f'):\n",
    "        self.name = name\n",
    "        self.fmt = fmt\n",
    "        self.reset()\n",
    "\n",
    "    def reset(self):\n",
    "        self.val = 0\n",
    "        self.avg = 0\n",
    "        self.sum = 0\n",
    "        self.count = 0\n",
    "    \n",
    "    def update(self, val, n=1):\n",
    "        self.val = val\n",
    "        self.sum += val * n\n",
    "        self. count += n\n",
    "        self.avg = self.sum / self.count\n",
    "    \n",
    "    def __str__(self):\n",
    "        fmtstr = '{name} {val' + self.fmt + '} ({avg' + self.fmt + '})'\n",
    "        return fmtstr.format(**self.__dict__)\n",
    "\n",
    "\n",
    "class ProgressMeter(object):\n",
    "    def __init__(self, num_batches, meters, prefix=\"\"):\n",
    "        self.batch_fmtstr = self._get_batch_fmtstr(num_batches)\n",
    "        self.meters = meters\n",
    "        self.prefix = prefix\n",
    "\n",
    "    def display(self, batch):\n",
    "        entries = [self.prefix + self.batch_fmtstr.format(batch)]\n",
    "        entries += [str(meter) for meter in self.meters]\n",
    "        \n",
    "        print('\\r' + '\\t'.join(entries), end = '')\n",
    "\n",
    "    def _get_batch_fmtstr(self, num_batches):\n",
    "        num_digits = len(str(num_batches // 1))\n",
    "        fmt = '{:' + str(num_digits) + 'd}'\n",
    "        return '[' + fmt + '/' + fmt.format(num_batches) + ']'"
   ]
  },
  {
   "cell_type": "code",
   "execution_count": 300,
   "metadata": {},
   "outputs": [],
   "source": [
    "def make_grid(sample, sampling_number = 64):\n",
    "    row_number = int(math.sqrt(sampling_number))\n",
    "    col_number = int(math.sqrt(sampling_number))\n",
    "    sample = sample[:sampling_number].detach().cpu().numpy()\n",
    "    shape = sample.shape\n",
    "    show_sample = np.zeros([row_number * shape[2], col_number * shape[3] ]).astype(np.float32)\n",
    "    for row in range(row_number):\n",
    "        for col in range(col_number):\n",
    "            sample_ = sample[row + col * row_number][0]\n",
    "            show_sample[ row * shape[2] : (row+1) * shape[2], col * shape[3] : (col+1) * shape[3] ] = (sample_ - sample_.min()) / (sample_.max() - sample_.min()) * 255\n",
    "            \n",
    "    show_sample = show_sample.astype(np.uint8)\n",
    "    return show_sample"
   ]
  },
  {
   "cell_type": "code",
   "execution_count": 301,
   "metadata": {},
   "outputs": [],
   "source": [
    "def imshow(sample, sampling_number = 64):\n",
    "    plt.figure(figsize=(10, 10))\n",
    "    clear_output()\n",
    "    show_sample = make_grid(sample, sampling_number)\n",
    "\n",
    "    plt.axis(False)\n",
    "    plt.imshow(show_sample, cmap = 'gray')\n",
    "    plt.show()"
   ]
  },
  {
   "cell_type": "code",
   "execution_count": 302,
   "metadata": {},
   "outputs": [],
   "source": [
    "def scatter(samples):\n",
    "    clear_output()\n",
    "    plt.figure(figsize=(6, 6))\n",
    "    plt.xlim(scatter_range)\n",
    "    plt.ylim(scatter_range)\n",
    "    plt.axis('off')\n",
    "    plt.scatter(samples[:, 0], samples[:, 1], s=3)\n",
    "    plt.show()"
   ]
  },
  {
   "cell_type": "code",
   "execution_count": 303,
   "metadata": {},
   "outputs": [],
   "source": [
    "beta_1 = 1e-4\n",
    "beta_T = 0.02\n",
    "T = 2000\n",
    "shape = 2\n",
    "device = torch.device('cuda:0') if torch.cuda.is_available() else torch.device('cpu')\n",
    "eta = 1\n",
    "tau = 1\n",
    "model = Model(device, beta_1, beta_T, T)\n",
    "process = DiffusionProcessDDIM(beta_1, beta_T, T, model, device, shape, eta)\n",
    "optim = torch.optim.Adam(model.parameters(), lr = 0.0005)"
   ]
  },
  {
   "cell_type": "code",
   "execution_count": 304,
   "metadata": {},
   "outputs": [
    {
     "data": {
      "image/png": "[encoded data removed]",
      "text/plain": [
       "<Figure size 432x288 with 1 Axes>"
      ]
     },
     "metadata": {
      "needs_background": "light"
     },
     "output_type": "display_data"
    }
   ],
   "source": [
    "total_iteration = 100000\n",
    "current_iteration = 0\n",
    "display_iteration = 2000\n",
    "\n",
    "\n",
    "sampling_number = 1500\n",
    "only_final = True\n",
    "\n",
    "data = generate_dataset(10000)\n",
    "dataset = torch.utils.data.TensorDataset(data)\n",
    "dataloader = torch.utils.data.DataLoader(dataset, batch_size = 128, shuffle = True)\n",
    "dataiterator = iter(dataloader)\n",
    "\n",
    "losses = AverageMeter('Loss', ':.4f')\n",
    "progress = ProgressMeter(total_iteration, [losses], prefix='Iteration ')"
   ]
  },
  {
   "cell_type": "code",
   "execution_count": 305,
   "metadata": {},
   "outputs": [
    {
     "data": {
      "image/png": "[encoded data removed]",
      "text/plain": [
       "<Figure size 432x432 with 1 Axes>"
      ]
     },
     "metadata": {
      "needs_background": "light"
     },
     "output_type": "display_data"
    }
   ],
   "source": [
    "while current_iteration != total_iteration:\n",
    "    try:\n",
    "        data = dataiterator.__next__()\n",
    "    except:\n",
    "        dataiterator = iter(dataloader)\n",
    "        data = dataiterator.__next__()\n",
    "    data = data[0].to(device = device)\n",
    "    loss = model.loss_fn(data)\n",
    "    \n",
    "    optim.zero_grad()\n",
    "    loss.backward()\n",
    "    optim.step()\n",
    "    \n",
    "    losses.update(loss.item())\n",
    "    progress.display(current_iteration)\n",
    "    current_iteration += 1\n",
    "    \n",
    "    if current_iteration % display_iteration == 0:\n",
    "        process = DiffusionProcessDDIM(beta_1, beta_T, T, model, device, shape, eta)\n",
    "        samples = process.sampling(sampling_number, only_final = only_final)\n",
    "        scatter(samples)\n",
    "        losses.reset()"
   ]
  },
  {
   "cell_type": "code",
   "execution_count": 306,
   "metadata": {},
   "outputs": [
    {
     "data": {
      "image/png": "[encoded data removed]",
      "text/plain": [
       "<Figure size 432x432 with 1 Axes>"
      ]
     },
     "metadata": {
      "needs_background": "light"
     },
     "output_type": "display_data"
    }
   ],
   "source": [
    "process = DiffusionProcessDDIM(beta_1, beta_T, T, model, device, shape, 1)\n",
    "samples = process.sampling(sampling_number, only_final = only_final)\n",
    "scatter(samples)"
   ]
  },
  {
   "cell_type": "code",
   "execution_count": 327,
   "metadata": {},
   "outputs": [],
   "source": [
    "samples = process.sampling(5000, only_final = False)"
   ]
  },
  {
   "cell_type": "code",
   "execution_count": 333,
   "metadata": {},
   "outputs": [
    {
     "data": {
      "image/png": "[encoded data removed]",
      "text/plain": [
       "<Figure size 432x288 with 1 Axes>"
      ]
     },
     "metadata": {
      "needs_background": "light"
     },
     "output_type": "display_data"
    }
   ],
   "source": [
    "imgs = []\n",
    "for i in range(1900, 2000):\n",
    "    plt.clf()\n",
    "    scatter_point = samples[i].detach().cpu().numpy()\n",
    "    scatter_x, scatter_y = scatter_point[:,0], scatter_point[:,1]\n",
    "\n",
    "    scat = plt.scatter(scatter_x, scatter_y,color='brown', edgecolor='white', s=5)\n",
    "    plt.axis('off')\n",
    "    \n",
    "    img_buf = io.BytesIO()\n",
    "    plt.savefig(img_buf, format='jpg')\n",
    "    img = Image.open(img_buf)\n",
    "    imgs.append(img)"
   ]
  },
  {
   "cell_type": "code",
   "execution_count": 334,
   "metadata": {},
   "outputs": [],
   "source": [
    "imgs[0].save(\"ddim.gif\",format='GIF',append_images=imgs,save_all=True,duration=100,loop=0)"
   ]
  },
  {
   "attachments": {},
   "cell_type": "markdown",
   "metadata": {},
   "source": [
    "This gif shows the progress of how the sampling works.  \n",
    "![output](output/ddim/ddim.gif)"
   ]
  }
 ],
 "metadata": {
  "kernelspec": {
   "display_name": "pytorch",
   "language": "python",
   "name": "python3"
  },
  "language_info": {
   "codemirror_mode": {
    "name": "ipython",
    "version": 3
   },
   "file_extension": ".py",
   "mimetype": "text/x-python",
   "name": "python",
   "nbconvert_exporter": "python",
   "pygments_lexer": "ipython3",
   "version": "3.9.12"
  },
  "orig_nbformat": 4
 },
 "nbformat": 4,
 "nbformat_minor": 2
}
